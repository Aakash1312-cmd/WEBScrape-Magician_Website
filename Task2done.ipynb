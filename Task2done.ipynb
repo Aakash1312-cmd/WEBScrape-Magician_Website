{
 "cells": [
  {
   "cell_type": "code",
   "execution_count": 3,
   "id": "f39cde64",
   "metadata": {},
   "outputs": [
    {
     "ename": "NoSuchElementException",
     "evalue": "Message: no such element: Unable to locate element: {\"method\":\"css selector\",\"selector\":\"[id=\"addToCartBtn\"]\"}\n  (Session info: chrome=120.0.6099.71); For documentation on this error, please visit: https://www.selenium.dev/documentation/webdriver/troubleshooting/errors#no-such-element-exception\nStacktrace:\n0   chromedriver                        0x0000000102df84cc chromedriver + 4162764\n1   chromedriver                        0x0000000102df0654 chromedriver + 4130388\n2   chromedriver                        0x0000000102a47bc0 chromedriver + 293824\n3   chromedriver                        0x0000000102a8e040 chromedriver + 581696\n4   chromedriver                        0x0000000102acdab0 chromedriver + 842416\n5   chromedriver                        0x0000000102a816bc chromedriver + 530108\n6   chromedriver                        0x0000000102a82930 chromedriver + 534832\n7   chromedriver                        0x0000000102dbddf8 chromedriver + 3923448\n8   chromedriver                        0x0000000102dc23cc chromedriver + 3941324\n9   chromedriver                        0x0000000102da6028 chromedriver + 3825704\n10  chromedriver                        0x0000000102dc2f2c chromedriver + 3944236\n11  chromedriver                        0x0000000102d986e4 chromedriver + 3770084\n12  chromedriver                        0x0000000102ddf970 chromedriver + 4061552\n13  chromedriver                        0x0000000102ddfae8 chromedriver + 4061928\n14  chromedriver                        0x0000000102df02d4 chromedriver + 4129492\n15  libsystem_pthread.dylib             0x000000018d71d034 _pthread_start + 136\n16  libsystem_pthread.dylib             0x000000018d717e3c thread_start + 8\n",
     "output_type": "error",
     "traceback": [
      "\u001b[0;31m---------------------------------------------------------------------------\u001b[0m",
      "\u001b[0;31mNoSuchElementException\u001b[0m                    Traceback (most recent call last)",
      "Cell \u001b[0;32mIn[3], line 19\u001b[0m\n\u001b[1;32m     16\u001b[0m driver\u001b[38;5;241m.\u001b[39mget(website_url)\n\u001b[1;32m     18\u001b[0m \u001b[38;5;66;03m# Add item to cart\u001b[39;00m\n\u001b[0;32m---> 19\u001b[0m add_to_cart_btn \u001b[38;5;241m=\u001b[39m \u001b[43mdriver\u001b[49m\u001b[38;5;241;43m.\u001b[39;49m\u001b[43mfind_element\u001b[49m\u001b[43m(\u001b[49m\u001b[43mBy\u001b[49m\u001b[38;5;241;43m.\u001b[39;49m\u001b[43mID\u001b[49m\u001b[43m,\u001b[49m\u001b[43m \u001b[49m\u001b[43madd_to_cart_btn_selector\u001b[49m\u001b[43m)\u001b[49m\n\u001b[1;32m     20\u001b[0m add_to_cart_btn\u001b[38;5;241m.\u001b[39mclick()\n\u001b[1;32m     22\u001b[0m \u001b[38;5;66;03m# Wait for the cart to update\u001b[39;00m\n",
      "File \u001b[0;32m~/anaconda3/lib/python3.10/site-packages/selenium/webdriver/remote/webdriver.py:742\u001b[0m, in \u001b[0;36mWebDriver.find_element\u001b[0;34m(self, by, value)\u001b[0m\n\u001b[1;32m    739\u001b[0m     by \u001b[38;5;241m=\u001b[39m By\u001b[38;5;241m.\u001b[39mCSS_SELECTOR\n\u001b[1;32m    740\u001b[0m     value \u001b[38;5;241m=\u001b[39m \u001b[38;5;124mf\u001b[39m\u001b[38;5;124m'\u001b[39m\u001b[38;5;124m[name=\u001b[39m\u001b[38;5;124m\"\u001b[39m\u001b[38;5;132;01m{\u001b[39;00mvalue\u001b[38;5;132;01m}\u001b[39;00m\u001b[38;5;124m\"\u001b[39m\u001b[38;5;124m]\u001b[39m\u001b[38;5;124m'\u001b[39m\n\u001b[0;32m--> 742\u001b[0m \u001b[38;5;28;01mreturn\u001b[39;00m \u001b[38;5;28;43mself\u001b[39;49m\u001b[38;5;241;43m.\u001b[39;49m\u001b[43mexecute\u001b[49m\u001b[43m(\u001b[49m\u001b[43mCommand\u001b[49m\u001b[38;5;241;43m.\u001b[39;49m\u001b[43mFIND_ELEMENT\u001b[49m\u001b[43m,\u001b[49m\u001b[43m \u001b[49m\u001b[43m{\u001b[49m\u001b[38;5;124;43m\"\u001b[39;49m\u001b[38;5;124;43musing\u001b[39;49m\u001b[38;5;124;43m\"\u001b[39;49m\u001b[43m:\u001b[49m\u001b[43m \u001b[49m\u001b[43mby\u001b[49m\u001b[43m,\u001b[49m\u001b[43m \u001b[49m\u001b[38;5;124;43m\"\u001b[39;49m\u001b[38;5;124;43mvalue\u001b[39;49m\u001b[38;5;124;43m\"\u001b[39;49m\u001b[43m:\u001b[49m\u001b[43m \u001b[49m\u001b[43mvalue\u001b[49m\u001b[43m}\u001b[49m\u001b[43m)\u001b[49m[\u001b[38;5;124m\"\u001b[39m\u001b[38;5;124mvalue\u001b[39m\u001b[38;5;124m\"\u001b[39m]\n",
      "File \u001b[0;32m~/anaconda3/lib/python3.10/site-packages/selenium/webdriver/remote/webdriver.py:348\u001b[0m, in \u001b[0;36mWebDriver.execute\u001b[0;34m(self, driver_command, params)\u001b[0m\n\u001b[1;32m    346\u001b[0m response \u001b[38;5;241m=\u001b[39m \u001b[38;5;28mself\u001b[39m\u001b[38;5;241m.\u001b[39mcommand_executor\u001b[38;5;241m.\u001b[39mexecute(driver_command, params)\n\u001b[1;32m    347\u001b[0m \u001b[38;5;28;01mif\u001b[39;00m response:\n\u001b[0;32m--> 348\u001b[0m     \u001b[38;5;28;43mself\u001b[39;49m\u001b[38;5;241;43m.\u001b[39;49m\u001b[43merror_handler\u001b[49m\u001b[38;5;241;43m.\u001b[39;49m\u001b[43mcheck_response\u001b[49m\u001b[43m(\u001b[49m\u001b[43mresponse\u001b[49m\u001b[43m)\u001b[49m\n\u001b[1;32m    349\u001b[0m     response[\u001b[38;5;124m\"\u001b[39m\u001b[38;5;124mvalue\u001b[39m\u001b[38;5;124m\"\u001b[39m] \u001b[38;5;241m=\u001b[39m \u001b[38;5;28mself\u001b[39m\u001b[38;5;241m.\u001b[39m_unwrap_value(response\u001b[38;5;241m.\u001b[39mget(\u001b[38;5;124m\"\u001b[39m\u001b[38;5;124mvalue\u001b[39m\u001b[38;5;124m\"\u001b[39m, \u001b[38;5;28;01mNone\u001b[39;00m))\n\u001b[1;32m    350\u001b[0m     \u001b[38;5;28;01mreturn\u001b[39;00m response\n",
      "File \u001b[0;32m~/anaconda3/lib/python3.10/site-packages/selenium/webdriver/remote/errorhandler.py:229\u001b[0m, in \u001b[0;36mErrorHandler.check_response\u001b[0;34m(self, response)\u001b[0m\n\u001b[1;32m    227\u001b[0m         alert_text \u001b[38;5;241m=\u001b[39m value[\u001b[38;5;124m\"\u001b[39m\u001b[38;5;124malert\u001b[39m\u001b[38;5;124m\"\u001b[39m]\u001b[38;5;241m.\u001b[39mget(\u001b[38;5;124m\"\u001b[39m\u001b[38;5;124mtext\u001b[39m\u001b[38;5;124m\"\u001b[39m)\n\u001b[1;32m    228\u001b[0m     \u001b[38;5;28;01mraise\u001b[39;00m exception_class(message, screen, stacktrace, alert_text)  \u001b[38;5;66;03m# type: ignore[call-arg]  # mypy is not smart enough here\u001b[39;00m\n\u001b[0;32m--> 229\u001b[0m \u001b[38;5;28;01mraise\u001b[39;00m exception_class(message, screen, stacktrace)\n",
      "\u001b[0;31mNoSuchElementException\u001b[0m: Message: no such element: Unable to locate element: {\"method\":\"css selector\",\"selector\":\"[id=\"addToCartBtn\"]\"}\n  (Session info: chrome=120.0.6099.71); For documentation on this error, please visit: https://www.selenium.dev/documentation/webdriver/troubleshooting/errors#no-such-element-exception\nStacktrace:\n0   chromedriver                        0x0000000102df84cc chromedriver + 4162764\n1   chromedriver                        0x0000000102df0654 chromedriver + 4130388\n2   chromedriver                        0x0000000102a47bc0 chromedriver + 293824\n3   chromedriver                        0x0000000102a8e040 chromedriver + 581696\n4   chromedriver                        0x0000000102acdab0 chromedriver + 842416\n5   chromedriver                        0x0000000102a816bc chromedriver + 530108\n6   chromedriver                        0x0000000102a82930 chromedriver + 534832\n7   chromedriver                        0x0000000102dbddf8 chromedriver + 3923448\n8   chromedriver                        0x0000000102dc23cc chromedriver + 3941324\n9   chromedriver                        0x0000000102da6028 chromedriver + 3825704\n10  chromedriver                        0x0000000102dc2f2c chromedriver + 3944236\n11  chromedriver                        0x0000000102d986e4 chromedriver + 3770084\n12  chromedriver                        0x0000000102ddf970 chromedriver + 4061552\n13  chromedriver                        0x0000000102ddfae8 chromedriver + 4061928\n14  chromedriver                        0x0000000102df02d4 chromedriver + 4129492\n15  libsystem_pthread.dylib             0x000000018d71d034 _pthread_start + 136\n16  libsystem_pthread.dylib             0x000000018d717e3c thread_start + 8\n"
     ]
    }
   ],
   "source": [
    "from selenium import webdriver\n",
    "from selenium.webdriver.common.by import By\n",
    "from selenium.webdriver.support.ui import WebDriverWait\n",
    "from selenium.webdriver.support import expected_conditions as EC\n",
    "\n",
    "# Replace 'YOUR_WEBSITE_URL', 'addToCartBtn', 'cartTotal', and 'discountPriceElement' with the actual values\n",
    "website_url = 'https://www.flipkart.com/realme-c53-champion-gold-128-gb/p/itm5df90168ecd05?pid=MOBGTEVGHM9ZPZBB&lid=LSTMOBGTEVGHM9ZPZBBYVV7IY&marketplace=FLIPKART&store=tyy%2F4io&spotlightTagId=BestsellerId_tyy%2F4io&srno=b_1_1&otracker=clp_bannerads_2_6.bannerAdCard.BANNERADS_A_mobile-phones-store_26AIWLL631LX&fm=organic&iid=c0c99c0a-60e1-4e14-b9d2-c3158a8f711a.MOBGTEVGHM9ZPZBB.SEARCH&ppt=browse&ppn=browse&ssid=nemsj0f5xlekw5j41701959396186'\n",
    "add_to_cart_btn_selector = 'addToCartBtn'\n",
    "cart_total_selector = 'cartTotal'\n",
    "discount_price_element_selector = 'discountPriceElement'\n",
    "\n",
    "# Initialize the browser\n",
    "driver = webdriver.Chrome()\n",
    "\n",
    "# Navigate to the website\n",
    "driver.get(website_url)\n",
    "\n",
    "# Add item to cart\n",
    "add_to_cart_btn = driver.find_element(By.ID, add_to_cart_btn_selector)\n",
    "add_to_cart_btn.click()\n",
    "\n",
    "# Wait for the cart to update\n",
    "wait = WebDriverWait(driver, 10)\n",
    "wait.until(EC.presence_of_element_located((By.ID, cart_total_selector)))\n",
    "\n",
    "# Extract the discount price\n",
    "discount_price_element = driver.find_element(By.ID, discount_price_element_selector)\n",
    "discount_price = discount_price_element.text.strip()\n",
    "\n",
    "print('Discount Price:', discount_price)\n",
    "\n",
    "# Close the browser\n",
    "driver.quit()"
   ]
  },
  {
   "cell_type": "code",
   "execution_count": null,
   "id": "559eeea9",
   "metadata": {},
   "outputs": [],
   "source": []
  }
 ],
 "metadata": {
  "kernelspec": {
   "display_name": "Python 3 (ipykernel)",
   "language": "python",
   "name": "python3"
  },
  "language_info": {
   "codemirror_mode": {
    "name": "ipython",
    "version": 3
   },
   "file_extension": ".py",
   "mimetype": "text/x-python",
   "name": "python",
   "nbconvert_exporter": "python",
   "pygments_lexer": "ipython3",
   "version": "3.10.9"
  }
 },
 "nbformat": 4,
 "nbformat_minor": 5
}
