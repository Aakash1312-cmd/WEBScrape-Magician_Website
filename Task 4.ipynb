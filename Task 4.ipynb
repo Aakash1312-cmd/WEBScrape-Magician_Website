{
 "cells": [
  {
   "cell_type": "code",
   "execution_count": 1,
   "id": "76e486ec",
   "metadata": {},
   "outputs": [],
   "source": [
    "import requests\n",
    "import random\n",
    "from bs4 import BeautifulSoup as bs\n",
    "import traceback"
   ]
  },
  {
   "cell_type": "code",
   "execution_count": null,
   "id": "b3ed1e05",
   "metadata": {},
   "outputs": [
    {
     "name": "stdout",
     "output_type": "stream",
     "text": [
      "Request Number : 1\n",
      "{'origin': '78.20.209.210'}\n",
      "Request Number : 2\n",
      "{'origin': '210.223.38.26'}\n",
      "Request Number : 3\n",
      "Not Available\n",
      "Request Number : 4\n",
      "Not Available\n",
      "Request Number : 5\n"
     ]
    }
   ],
   "source": [
    "def get_free_proxies():\n",
    "    url = \"https://free-proxy-list.net\"#request the url and grab the content\n",
    "    soup = bs(requests.get(url).content, 'html.parser')\n",
    "    proxies = []\n",
    "    \n",
    "    for row in soup.find(\"table\", class_=\"table table-striped table-bordered\").find_all(\"tr\")[1:]:\n",
    "        tds = row.find_all(\"td\")\n",
    "        try:\n",
    "            \n",
    "            ip = tds[0].text.strip()\n",
    "            port = tds[1].text.strip()\n",
    "            proxies.append(str(ip) + \":\" + str(port))\n",
    "            \n",
    "        except IndexError:\n",
    "            continue\n",
    "            \n",
    "    return proxies\n",
    "\n",
    "\n",
    "url = \"http://httpbin.org/ip\"\n",
    "proxies = get_free_proxies()\n",
    "\n",
    "for i in range(len(proxies)):\n",
    "    \n",
    "    print(\"Request Number : \" + str(i+1))\n",
    "    proxy = proxies[i]\n",
    "    \n",
    "    try:\n",
    "        \n",
    "        response = requests.get(url, proxies = {\"http\":proxy, \"https\":proxy})\n",
    "        print(response.json())\n",
    "        \n",
    "    except:\n",
    "        \n",
    "        print(\"Not Available\")\n",
    "    "
   ]
  },
  {
   "cell_type": "code",
   "execution_count": null,
   "id": "e8b0a9d6",
   "metadata": {},
   "outputs": [],
   "source": []
  }
 ],
 "metadata": {
  "kernelspec": {
   "display_name": "Python 3 (ipykernel)",
   "language": "python",
   "name": "python3"
  },
  "language_info": {
   "codemirror_mode": {
    "name": "ipython",
    "version": 3
   },
   "file_extension": ".py",
   "mimetype": "text/x-python",
   "name": "python",
   "nbconvert_exporter": "python",
   "pygments_lexer": "ipython3",
   "version": "3.10.9"
  }
 },
 "nbformat": 4,
 "nbformat_minor": 5
}
